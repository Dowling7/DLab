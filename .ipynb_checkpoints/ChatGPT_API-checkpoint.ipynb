{
 "cells": [
  {
   "cell_type": "code",
   "execution_count": null,
   "id": "15b08a89",
   "metadata": {},
   "outputs": [],
   "source": [
    "import requests\n",
    "\n",
    "API_URL = \"https://api.openai.com/v1/engines/davinci/completions\"  # This URL might change based on OpenAI documentation\n",
    "API_KEY = \"YOUR_OPENAI_API_KEY\"  # Replace with your API key\n",
    "\n",
    "headers = {\n",
    "    \"Authorization\": f\"Bearer {API_KEY}\",\n",
    "    \"Content-Type\": \"application/json\",\n",
    "}\n",
    "\n",
    "def chat_with_gpt(prompt):\n",
    "    payload = {\n",
    "        \"prompt\": prompt,\n",
    "        \"max_tokens\": 150,  # Adjust as needed\n",
    "    }\n",
    "    response = requests.post(API_URL, headers=headers, json=payload)\n",
    "    response_json = response.json()\n",
    "    \n",
    "    if 'choices' in response_json and len(response_json['choices']) > 0:\n",
    "        return response_json['choices'][0]['text'].strip()\n",
    "    else:\n",
    "        return \"Sorry, I couldn't generate a response.\"\n",
    "\n",
    "if __name__ == \"__main__\":\n",
    "    user_input = input(\"You: \")\n",
    "    while user_input.lower() not in [\"exit\", \"quit\"]:\n",
    "        response = chat_with_gpt(user_input)\n",
    "        print(f\"ChatGPT: {response}\")\n",
    "        user_input = input(\"You: \")\n"
   ]
  },
  {
   "cell_type": "code",
   "execution_count": null,
   "id": "43f27269",
   "metadata": {},
   "outputs": [],
   "source": [
    "import openai\n",
    "\n",
    "openai.api_key = 'YOUR_OPENAI_API_KEY'\n",
    "\n",
    "def chat_with_gpt(prompt):\n",
    "    response = openai.Completion.create(engine=\"davinci\", prompt=prompt, max_tokens=150)\n",
    "    return response.choices[0].text.strip()\n",
    "\n",
    "if __name__ == \"__main__\":\n",
    "    user_input = input(\"You: \")\n",
    "    while user_input.lower() not in [\"exit\", \"quit\"]:\n",
    "        response = chat_with_gpt(user_input)\n",
    "        print(f\"ChatGPT: {response}\")\n",
    "        user_input = input(\"You: \")\n"
   ]
  }
 ],
 "metadata": {
  "kernelspec": {
   "display_name": "Python 3 (ipykernel)",
   "language": "python",
   "name": "python3"
  },
  "language_info": {
   "codemirror_mode": {
    "name": "ipython",
    "version": 3
   },
   "file_extension": ".py",
   "mimetype": "text/x-python",
   "name": "python",
   "nbconvert_exporter": "python",
   "pygments_lexer": "ipython3",
   "version": "3.9.12"
  }
 },
 "nbformat": 4,
 "nbformat_minor": 5
}
