{
 "cells": [
  {
   "cell_type": "code",
   "execution_count": 1,
   "id": "0a3acb58-b489-4dfa-ba3a-476a93934fb5",
   "metadata": {},
   "outputs": [],
   "source": [
    "def fib(n):\n",
    "    if n <= 1:\n",
    "        return n\n",
    "    return fib(n-1) + fib(n-2)\n"
   ]
  },
  {
   "cell_type": "code",
   "execution_count": 2,
   "id": "ba88de2f-5268-4b54-b229-59f6c78893ca",
   "metadata": {},
   "outputs": [
    {
     "name": "stdout",
     "output_type": "stream",
     "text": [
      "832040\n",
      "         2692578 function calls (42 primitive calls) in 0.717 seconds\n",
      "\n",
      "   Ordered by: standard name\n",
      "\n",
      "   ncalls  tottime  percall  cumtime  percall filename:lineno(function)\n",
      "2692537/1    0.717    0.000    0.717    0.717 4174477891.py:1(fib)\n",
      "        1    0.000    0.000    0.717    0.717 970907371.py:3(main)\n",
      "        1    0.000    0.000    0.717    0.717 <string>:1(<module>)\n",
      "        3    0.000    0.000    0.000    0.000 iostream.py:206(schedule)\n",
      "        2    0.000    0.000    0.000    0.000 iostream.py:418(_is_master_process)\n",
      "        2    0.000    0.000    0.000    0.000 iostream.py:437(_schedule_flush)\n",
      "        2    0.000    0.000    0.000    0.000 iostream.py:500(write)\n",
      "        3    0.000    0.000    0.000    0.000 iostream.py:96(_event_pipe)\n",
      "        3    0.000    0.000    0.000    0.000 socket.py:621(send)\n",
      "        3    0.000    0.000    0.000    0.000 threading.py:1102(_wait_for_tstate_lock)\n",
      "        3    0.000    0.000    0.000    0.000 threading.py:1169(is_alive)\n",
      "        3    0.000    0.000    0.000    0.000 threading.py:553(is_set)\n",
      "        1    0.000    0.000    0.717    0.717 {built-in method builtins.exec}\n",
      "        2    0.000    0.000    0.000    0.000 {built-in method builtins.isinstance}\n",
      "        2    0.000    0.000    0.000    0.000 {built-in method builtins.len}\n",
      "        1    0.000    0.000    0.000    0.000 {built-in method builtins.print}\n",
      "        2    0.000    0.000    0.000    0.000 {built-in method posix.getpid}\n",
      "        3    0.000    0.000    0.000    0.000 {method 'acquire' of '_thread.lock' objects}\n",
      "        3    0.000    0.000    0.000    0.000 {method 'append' of 'collections.deque' objects}\n",
      "        1    0.000    0.000    0.000    0.000 {method 'disable' of '_lsprof.Profiler' objects}\n",
      "\n",
      "\n"
     ]
    }
   ],
   "source": [
    "import cProfile\n",
    "\n",
    "def main():\n",
    "    print(fib(30))\n",
    "\n",
    "if __name__ == \"__main__\":\n",
    "    cProfile.run('main()')\n"
   ]
  },
  {
   "cell_type": "code",
   "execution_count": 1,
   "id": "f427d898-48a3-43e1-be22-539e60dbeebc",
   "metadata": {},
   "outputs": [],
   "source": [
    "def fib(n):\n",
    "    \"\"\"Naive recursive Fibonacci function.\"\"\"\n",
    "    if n <= 1:\n",
    "        return n\n",
    "    return fib(n-1) + fib(n-2)\n",
    "\n",
    "def factorial(n):\n",
    "    \"\"\"Compute factorial.\"\"\"\n",
    "    if n == 0:\n",
    "        return 1\n",
    "    return n * factorial(n-1)\n",
    "\n",
    "def main():\n",
    "    fib(20)\n",
    "    factorial(10)\n"
   ]
  },
  {
   "cell_type": "code",
   "execution_count": 2,
   "id": "c9d6de46-d0bf-4ea3-a828-c89954e27fba",
   "metadata": {},
   "outputs": [],
   "source": [
    "import cProfile\n",
    "\n",
    "if __name__ == \"__main__\":\n",
    "    profiler = cProfile.Profile()\n",
    "    profiler.enable()\n",
    "    main()\n",
    "    profiler.disable()\n",
    "    profiler.dump_stats(\"profile_output.pstat\")\n"
   ]
  },
  {
   "cell_type": "code",
   "execution_count": 3,
   "id": "8cf3dcbe-9f81-4bef-88cf-fccf988c99aa",
   "metadata": {},
   "outputs": [
    {
     "name": "stdout",
     "output_type": "stream",
     "text": [
      "Tue Sep 19 23:30:18 2023    profile_output.pstat\n",
      "\n",
      "         21904 function calls (4 primitive calls) in 0.018 seconds\n",
      "\n",
      "   Ordered by: cumulative time\n",
      "\n",
      "   ncalls  tottime  percall  cumtime  percall filename:lineno(function)\n",
      "        1    0.000    0.000    0.018    0.018 /tmp/ipykernel_9072/1980033270.py:13(main)\n",
      "  21891/1    0.018    0.000    0.018    0.018 /tmp/ipykernel_9072/1980033270.py:1(fib)\n",
      "     11/1    0.000    0.000    0.000    0.000 /tmp/ipykernel_9072/1980033270.py:7(factorial)\n",
      "        1    0.000    0.000    0.000    0.000 {method 'disable' of '_lsprof.Profiler' objects}\n",
      "\n",
      "\n"
     ]
    },
    {
     "data": {
      "text/plain": [
       "<pstats.Stats at 0x7f1a2ef76e00>"
      ]
     },
     "execution_count": 3,
     "metadata": {},
     "output_type": "execute_result"
    }
   ],
   "source": [
    "import pstats\n",
    "\n",
    "# Load the stats\n",
    "p = pstats.Stats(\"profile_output.pstat\")\n",
    "\n",
    "# Sort stats by the cumulative time spent in the function\n",
    "p.sort_stats(\"cumulative\")\n",
    "\n",
    "# Print the top 10 functions (sorted by cumulative time)\n",
    "p.print_stats(10)\n"
   ]
  },
  {
   "cell_type": "code",
   "execution_count": 4,
   "id": "e9b58d0e-4d52-47f6-be7f-577f80c6422f",
   "metadata": {},
   "outputs": [
    {
     "name": "stdout",
     "output_type": "stream",
     "text": [
      "   Ordered by: cumulative time\n",
      "   List reduced from 4 to 1 due to restriction <'fib'>\n",
      "\n",
      "Function                                  was called by...\n",
      "                                              ncalls  tottime  cumtime\n",
      "/tmp/ipykernel_9072/1980033270.py:1(fib)  <- 21890/2    0.018    0.018  /tmp/ipykernel_9072/1980033270.py:1(fib)\n",
      "                                                   1    0.000    0.018  /tmp/ipykernel_9072/1980033270.py:13(main)\n",
      "\n",
      "\n",
      "   Ordered by: cumulative time\n",
      "   List reduced from 4 to 1 due to restriction <'main'>\n",
      "\n",
      "Function                                    called...\n",
      "                                                ncalls  tottime  cumtime\n",
      "/tmp/ipykernel_9072/1980033270.py:13(main)  ->       1    0.000    0.018  /tmp/ipykernel_9072/1980033270.py:1(fib)\n",
      "                                                     1    0.000    0.000  /tmp/ipykernel_9072/1980033270.py:7(factorial)\n",
      "\n",
      "\n"
     ]
    },
    {
     "data": {
      "text/plain": [
       "<pstats.Stats at 0x7f1a2ef76e00>"
      ]
     },
     "execution_count": 4,
     "metadata": {},
     "output_type": "execute_result"
    }
   ],
   "source": [
    "# Print callers of the fib function\n",
    "p.print_callers(\"fib\")\n",
    "\n",
    "# Print callees of the main function\n",
    "p.print_callees(\"main\")\n"
   ]
  },
  {
   "cell_type": "code",
   "execution_count": null,
   "id": "ffd6dfa1-941c-434c-b79e-acdfbd520718",
   "metadata": {},
   "outputs": [],
   "source": []
  }
 ],
 "metadata": {
  "kernelspec": {
   "display_name": "Python 3 (ipykernel)",
   "language": "python",
   "name": "python3"
  },
  "language_info": {
   "codemirror_mode": {
    "name": "ipython",
    "version": 3
   },
   "file_extension": ".py",
   "mimetype": "text/x-python",
   "name": "python",
   "nbconvert_exporter": "python",
   "pygments_lexer": "ipython3",
   "version": "3.10.12"
  }
 },
 "nbformat": 4,
 "nbformat_minor": 5
}
