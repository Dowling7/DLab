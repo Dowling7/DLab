{
 "cells": [
  {
   "cell_type": "markdown",
   "id": "b3ba4702",
   "metadata": {},
   "source": [
    "# For the CPU bound task"
   ]
  },
  {
   "cell_type": "code",
   "execution_count": 5,
   "id": "51751d69",
   "metadata": {},
   "outputs": [
    {
     "name": "stdout",
     "output_type": "stream",
     "text": [
      "Worker: 0\n",
      "Worker: 1\n",
      "Worker: 2\n",
      "Worker: 3\n",
      "Worker: 4\n"
     ]
    }
   ],
   "source": [
    "import multiprocessing\n",
    "\n",
    "def worker(num):\n",
    "    \"\"\"thread worker function\"\"\"\n",
    "    print(f'Worker: {num}')\n",
    "    return\n",
    "\n",
    "if __name__ == '__main__':\n",
    "    jobs = []\n",
    "    for i in range(5):\n",
    "        p = multiprocessing.Process(target=worker, args=(i,))\n",
    "        jobs.append(p)\n",
    "        p.start()\n"
   ]
  },
  {
   "cell_type": "markdown",
   "id": "0844341d",
   "metadata": {},
   "source": [
    "# For the I/O bound task"
   ]
  },
  {
   "cell_type": "code",
   "execution_count": 4,
   "id": "8fcd0aa8",
   "metadata": {},
   "outputs": [
    {
     "name": "stdout",
     "output_type": "stream",
     "text": [
      "Number 1Letter a\n",
      "Letter b\n",
      "Letter c\n",
      "Number 2\n",
      "\n",
      "Number 3\n",
      "Number 4\n",
      "Number 5\n",
      "Letter d\n",
      "Letter e\n"
     ]
    }
   ],
   "source": [
    "import threading\n",
    "\n",
    "def print_numbers():\n",
    "    for i in range(1, 6):\n",
    "        print(f\"Number {i}\")\n",
    "\n",
    "def print_letters():\n",
    "    for letter in 'abcde':\n",
    "        print(f\"Letter {letter}\")\n",
    "\n",
    "# Create two threads\n",
    "t1 = threading.Thread(target=print_numbers)\n",
    "t2 = threading.Thread(target=print_letters)\n",
    "\n",
    "# Start the threads\n",
    "t1.start()\n",
    "t2.start()\n",
    "\n",
    "# Wait for both threads to complete\n",
    "t1.join()\n",
    "t2.join()\n"
   ]
  },
  {
   "cell_type": "code",
   "execution_count": null,
   "id": "77075247",
   "metadata": {},
   "outputs": [],
   "source": []
  },
  {
   "cell_type": "code",
   "execution_count": null,
   "id": "8fb4e849",
   "metadata": {},
   "outputs": [],
   "source": []
  },
  {
   "cell_type": "markdown",
   "id": "68ed598c",
   "metadata": {},
   "source": [
    "# usually used with sklearn"
   ]
  },
  {
   "cell_type": "code",
   "execution_count": 6,
   "id": "875ead9a",
   "metadata": {},
   "outputs": [
    {
     "name": "stdout",
     "output_type": "stream",
     "text": [
      "[2, 4, 6, 8, 10]\n"
     ]
    }
   ],
   "source": [
    "from joblib import Parallel, delayed#\n",
    "\n",
    "def multiply_by_two(n):\n",
    "    return n * 2\n",
    "\n",
    "data = [1, 2, 3, 4, 5]\n",
    "results = Parallel(n_jobs=-1)(delayed(multiply_by_two)(i) for i in data)\n",
    "print(results)\n"
   ]
  },
  {
   "cell_type": "code",
   "execution_count": null,
   "id": "c7949e94",
   "metadata": {},
   "outputs": [],
   "source": []
  }
 ],
 "metadata": {
  "kernelspec": {
   "display_name": "Python 3 (ipykernel)",
   "language": "python",
   "name": "python3"
  },
  "language_info": {
   "codemirror_mode": {
    "name": "ipython",
    "version": 3
   },
   "file_extension": ".py",
   "mimetype": "text/x-python",
   "name": "python",
   "nbconvert_exporter": "python",
   "pygments_lexer": "ipython3",
   "version": "3.10.12"
  }
 },
 "nbformat": 4,
 "nbformat_minor": 5
}
