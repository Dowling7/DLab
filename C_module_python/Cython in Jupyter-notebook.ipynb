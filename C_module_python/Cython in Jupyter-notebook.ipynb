{
 "cells": [
  {
   "cell_type": "markdown",
   "metadata": {},
   "source": [
    "**Cython** is a superset of python programming language that gives access into c/c++ constructs. \n",
    "- Cython acts as a bridge between Python and C/C++."
   ]
  },
  {
   "cell_type": "markdown",
   "metadata": {},
   "source": [
    "Load cython notebook extension (and i have already installed cython )"
   ]
  },
  {
   "cell_type": "code",
   "execution_count": 1,
   "metadata": {},
   "outputs": [],
   "source": [
    "%load_ext cython"
   ]
  },
  {
   "cell_type": "code",
   "execution_count": 2,
   "metadata": {},
   "outputs": [
    {
     "name": "stderr",
     "output_type": "stream",
     "text": [
      "ld: warning: duplicate -rpath '/Users/wongdowling/opt/anaconda3/lib' ignored\n"
     ]
    }
   ],
   "source": [
    "%%cython\n",
    "'''Inside this cell is Cython Code only\n",
    "'''\n",
    "\n",
    "def first_cython_function(int i):\n",
    "    return i * 3.1415926;\n"
   ]
  },
  {
   "cell_type": "code",
   "execution_count": 3,
   "metadata": {},
   "outputs": [
    {
     "data": {
      "text/plain": [
       "31.415926"
      ]
     },
     "execution_count": 3,
     "metadata": {},
     "output_type": "execute_result"
    }
   ],
   "source": [
    "# use cython function in a separate (python) cell\n",
    "first_cython_function(10)"
   ]
  },
  {
   "cell_type": "code",
   "execution_count": 4,
   "metadata": {},
   "outputs": [],
   "source": [
    "%%cython?"
   ]
  },
  {
   "cell_type": "code",
   "execution_count": 5,
   "metadata": {},
   "outputs": [],
   "source": [
    "def foo(a, b):\n",
    "    return a + b"
   ]
  },
  {
   "cell_type": "code",
   "execution_count": 6,
   "metadata": {},
   "outputs": [
    {
     "name": "stdout",
     "output_type": "stream",
     "text": [
      "  2           0 LOAD_FAST                0 (a)\n",
      "              2 LOAD_FAST                1 (b)\n",
      "              4 BINARY_ADD\n",
      "              6 RETURN_VALUE\n"
     ]
    }
   ],
   "source": [
    "from dis import dis \n",
    "# disassebles compiled python objects\n",
    "dis(foo)"
   ]
  },
  {
   "cell_type": "code",
   "execution_count": 7,
   "metadata": {},
   "outputs": [
    {
     "name": "stderr",
     "output_type": "stream",
     "text": [
      "ld: warning: duplicate -rpath '/Users/wongdowling/opt/anaconda3/lib' ignored\n"
     ]
    }
   ],
   "source": [
    "%%cython\n",
    "def cyfoo(a, b):\n",
    "    return a + b"
   ]
  },
  {
   "cell_type": "code",
   "execution_count": 8,
   "metadata": {},
   "outputs": [
    {
     "name": "stdout",
     "output_type": "stream",
     "text": [
      "60 ns ± 1.21 ns per loop (mean ± std. dev. of 7 runs, 10,000,000 loops each)\n"
     ]
    }
   ],
   "source": [
    "%timeit foo(1000000, 2000000)"
   ]
  },
  {
   "cell_type": "code",
   "execution_count": 9,
   "metadata": {},
   "outputs": [
    {
     "name": "stdout",
     "output_type": "stream",
     "text": [
      "43 ns ± 0.0738 ns per loop (mean ± std. dev. of 7 runs, 10,000,000 loops each)\n"
     ]
    }
   ],
   "source": [
    "%timeit cyfoo(1000000, 2000000)"
   ]
  },
  {
   "cell_type": "code",
   "execution_count": 10,
   "metadata": {},
   "outputs": [
    {
     "name": "stdout",
     "output_type": "stream",
     "text": [
      "67.5 ns ± 0.176 ns per loop (mean ± std. dev. of 7 runs, 10,000,000 loops each)\n"
     ]
    }
   ],
   "source": [
    "%timeit foo('x', 'y')"
   ]
  },
  {
   "cell_type": "code",
   "execution_count": 11,
   "metadata": {},
   "outputs": [
    {
     "name": "stdout",
     "output_type": "stream",
     "text": [
      "51.3 ns ± 0.145 ns per loop (mean ± std. dev. of 7 runs, 10,000,000 loops each)\n"
     ]
    }
   ],
   "source": [
    "%timeit cyfoo('x', 'y')"
   ]
  },
  {
   "cell_type": "code",
   "execution_count": 12,
   "metadata": {},
   "outputs": [],
   "source": [
    "def pyfac(n):\n",
    "    if n <= 1:\n",
    "        return 1\n",
    "    return n * pyfac(n -1)"
   ]
  },
  {
   "cell_type": "code",
   "execution_count": 13,
   "metadata": {},
   "outputs": [
    {
     "name": "stdout",
     "output_type": "stream",
     "text": [
      "1.63 µs ± 5.24 ns per loop (mean ± std. dev. of 7 runs, 1,000,000 loops each)\n"
     ]
    }
   ],
   "source": [
    "%timeit pyfac(20.0)"
   ]
  },
  {
   "cell_type": "code",
   "execution_count": 14,
   "metadata": {},
   "outputs": [
    {
     "name": "stderr",
     "output_type": "stream",
     "text": [
      "/Users/wongdowling/.cache/ipython/cython/_cython_magic_e6f131a3b4f6bc900bbcff8ce7457cf5.c:2055:21: warning: fallthrough annotation in unreachable code [-Wunreachable-code-fallthrough]\n",
      "                    CYTHON_FALLTHROUGH;\n",
      "                    ^\n",
      "/Users/wongdowling/.cache/ipython/cython/_cython_magic_e6f131a3b4f6bc900bbcff8ce7457cf5.c:297:34: note: expanded from macro 'CYTHON_FALLTHROUGH'\n",
      "      #define CYTHON_FALLTHROUGH __attribute__((fallthrough))\n",
      "                                 ^\n",
      "/Users/wongdowling/.cache/ipython/cython/_cython_magic_e6f131a3b4f6bc900bbcff8ce7457cf5.c:2066:21: warning: fallthrough annotation in unreachable code [-Wunreachable-code-fallthrough]\n",
      "                    CYTHON_FALLTHROUGH;\n",
      "                    ^\n",
      "/Users/wongdowling/.cache/ipython/cython/_cython_magic_e6f131a3b4f6bc900bbcff8ce7457cf5.c:297:34: note: expanded from macro 'CYTHON_FALLTHROUGH'\n",
      "      #define CYTHON_FALLTHROUGH __attribute__((fallthrough))\n",
      "                                 ^\n",
      "2 warnings generated.\n",
      "ld: warning: duplicate -rpath '/Users/wongdowling/opt/anaconda3/lib' ignored\n"
     ]
    }
   ],
   "source": [
    "%%cython\n",
    "\n",
    "def cyfac(n):\n",
    "    if n <= 1:\n",
    "        return 1\n",
    "    return n * cyfac(n-1)\n",
    "\n",
    "def cyfac_double(double n):\n",
    "    if n <= 1:\n",
    "        return 1.0\n",
    "    return n * cyfac_double(n-1)"
   ]
  },
  {
   "cell_type": "code",
   "execution_count": 15,
   "metadata": {},
   "outputs": [
    {
     "name": "stdout",
     "output_type": "stream",
     "text": [
      "770 ns ± 2 ns per loop (mean ± std. dev. of 7 runs, 1,000,000 loops each)\n"
     ]
    }
   ],
   "source": [
    "%timeit cyfac(20.0)"
   ]
  },
  {
   "cell_type": "code",
   "execution_count": 16,
   "metadata": {},
   "outputs": [
    {
     "name": "stdout",
     "output_type": "stream",
     "text": [
      "440 ns ± 21.2 ns per loop (mean ± std. dev. of 7 runs, 1,000,000 loops each)\n"
     ]
    }
   ],
   "source": [
    "%timeit cyfac_double(20.0)"
   ]
  },
  {
   "cell_type": "code",
   "execution_count": 17,
   "metadata": {},
   "outputs": [
    {
     "name": "stderr",
     "output_type": "stream",
     "text": [
      "ld: warning: duplicate -rpath '/Users/wongdowling/opt/anaconda3/lib' ignored\n"
     ]
    }
   ],
   "source": [
    "%%cython\n",
    "\n",
    "cpdef double cyfac_double_fast(double n):\n",
    "    if n <= 1:\n",
    "        return 1.0\n",
    "    return n * cyfac_double_fast(n - 1)"
   ]
  },
  {
   "cell_type": "code",
   "execution_count": 18,
   "metadata": {},
   "outputs": [
    {
     "name": "stdout",
     "output_type": "stream",
     "text": [
      "55.4 ns ± 0.122 ns per loop (mean ± std. dev. of 7 runs, 10,000,000 loops each)\n"
     ]
    }
   ],
   "source": [
    "%timeit cyfac_double_fast(20.0)"
   ]
  },
  {
   "cell_type": "code",
   "execution_count": 19,
   "metadata": {},
   "outputs": [],
   "source": [
    "### Loop based version\n",
    "def pyfac_loop(n):\n",
    "    r = 1.0\n",
    "    for i in range(1, n+1):\n",
    "        r *= i\n",
    "    return r"
   ]
  },
  {
   "cell_type": "code",
   "execution_count": 20,
   "metadata": {},
   "outputs": [
    {
     "name": "stdout",
     "output_type": "stream",
     "text": [
      "599 ns ± 2.08 ns per loop (mean ± std. dev. of 7 runs, 1,000,000 loops each)\n"
     ]
    }
   ],
   "source": [
    "%timeit pyfac_loop(20)"
   ]
  },
  {
   "cell_type": "code",
   "execution_count": 21,
   "metadata": {},
   "outputs": [
    {
     "name": "stderr",
     "output_type": "stream",
     "text": [
      "ld: warning: duplicate -rpath '/Users/wongdowling/opt/anaconda3/lib' ignored\n"
     ]
    }
   ],
   "source": [
    "%%cython\n",
    "cpdef double cyfac_loop(int n):\n",
    "    cdef double r = 1.0\n",
    "    cdef int i\n",
    "    for i in range(1, n+1):\n",
    "        r *= <double>i\n",
    "    return r\n",
    "    "
   ]
  },
  {
   "cell_type": "code",
   "execution_count": 22,
   "metadata": {},
   "outputs": [
    {
     "name": "stdout",
     "output_type": "stream",
     "text": [
      "29.2 ns ± 0.0848 ns per loop (mean ± std. dev. of 7 runs, 10,000,000 loops each)\n"
     ]
    }
   ],
   "source": [
    "%timeit cyfac_loop(20)"
   ]
  },
  {
   "cell_type": "markdown",
   "metadata": {},
   "source": [
    "### Integral Types"
   ]
  },
  {
   "cell_type": "code",
   "execution_count": 23,
   "metadata": {},
   "outputs": [
    {
     "name": "stdout",
     "output_type": "stream",
     "text": [
      "0 1 -3 1 True 1.0 -2.0 100000.0 abc\n"
     ]
    },
    {
     "name": "stderr",
     "output_type": "stream",
     "text": [
      "ld: warning: duplicate -rpath '/Users/wongdowling/opt/anaconda3/lib' ignored\n"
     ]
    }
   ],
   "source": [
    "%%cython\n",
    "\n",
    "# cdef is an directive , telling objects are c objects\n",
    "cdef:\n",
    "    int i = 0\n",
    "    unsigned long j = 1\n",
    "    signed short k = -3\n",
    "    bint flag = True\n",
    "    long long ll = 1LL\n",
    "    float a = 1.0\n",
    "    double b = -2.0\n",
    "    long double c= 1e5\n",
    "    str s = \"abc\"\n",
    "    \n",
    "    \n",
    "print(i, j, k, ll, flag, a, b, c, s)    "
   ]
  },
  {
   "cell_type": "code",
   "execution_count": 24,
   "metadata": {},
   "outputs": [
    {
     "name": "stderr",
     "output_type": "stream",
     "text": [
      "ld: warning: duplicate -rpath '/Users/wongdowling/opt/anaconda3/lib' ignored\n"
     ]
    }
   ],
   "source": [
    "%%cython \n",
    "\n",
    "import datetime\n",
    "cimport cpython.datetime \n",
    "\n",
    "import array\n",
    "cimport cpython.array"
   ]
  },
  {
   "cell_type": "markdown",
   "metadata": {},
   "source": [
    "### Example spin field"
   ]
  },
  {
   "cell_type": "code",
   "execution_count": 25,
   "metadata": {},
   "outputs": [],
   "source": [
    "import numpy as np"
   ]
  },
  {
   "cell_type": "code",
   "execution_count": 26,
   "metadata": {},
   "outputs": [],
   "source": [
    "def random_spin_field(N, M):\n",
    "    return np.random.choice([-1, 1], size = (N, M))"
   ]
  },
  {
   "cell_type": "code",
   "execution_count": 27,
   "metadata": {},
   "outputs": [
    {
     "data": {
      "text/plain": [
       "array([[-1,  1,  1, -1,  1, -1,  1, -1, -1, -1],\n",
       "       [ 1,  1, -1,  1, -1, -1,  1, -1,  1, -1],\n",
       "       [ 1, -1,  1,  1, -1, -1,  1, -1, -1, -1],\n",
       "       [ 1, -1, -1,  1,  1,  1,  1, -1, -1, -1],\n",
       "       [ 1,  1, -1, -1,  1,  1, -1, -1,  1,  1],\n",
       "       [ 1, -1, -1, -1,  1,  1, -1, -1,  1,  1],\n",
       "       [ 1, -1,  1, -1, -1,  1, -1,  1, -1,  1],\n",
       "       [ 1, -1,  1, -1, -1,  1,  1,  1, -1, -1],\n",
       "       [-1, -1, -1,  1,  1,  1,  1,  1,  1, -1],\n",
       "       [-1, -1,  1,  1,  1,  1, -1, -1, -1,  1]])"
      ]
     },
     "execution_count": 27,
     "metadata": {},
     "output_type": "execute_result"
    }
   ],
   "source": [
    "field = random_spin_field(10, 10)\n",
    "field"
   ]
  },
  {
   "cell_type": "code",
   "execution_count": 28,
   "metadata": {},
   "outputs": [],
   "source": [
    "# pip install pillow\n",
    "from PIL import Image"
   ]
  },
  {
   "cell_type": "code",
   "execution_count": 29,
   "metadata": {},
   "outputs": [],
   "source": [
    "def display_spin_field(field):\n",
    "    return Image.fromarray(np.uint8((field +1 )* 0.5 * 255)) # expects  nu. between 0 and 255"
   ]
  },
  {
   "cell_type": "code",
   "execution_count": 30,
   "metadata": {},
   "outputs": [
    {
     "data": {
      "image/png": "[encoded data removed]",
      "text/plain": [
       "<PIL.Image.Image image mode=L size=200x200 at 0x107DA0C10>"
      ]
     },
     "execution_count": 30,
     "metadata": {},
     "output_type": "execute_result"
    }
   ],
   "source": [
    "display_spin_field(random_spin_field(200,200))"
   ]
  },
  {
   "cell_type": "raw",
   "metadata": {},
   "source": [
    "### Ising model logic\n",
    "For every point in grid:\n",
    "    energy = my spin * sum of all spins (+1 or -1) of neighbouring points\n",
    "    if energy is improved by switching:\n",
    "        switch\n",
    "    else if we are particularly unlucky:\n",
    "        switch anyway\n",
    "        "
   ]
  },
  {
   "cell_type": "code",
   "execution_count": 31,
   "metadata": {},
   "outputs": [],
   "source": [
    "def ising_step(field, beta=0.5):\n",
    "    N, M = field.shape\n",
    "    for n_offset in range(2):\n",
    "        for m_offset in range(2):\n",
    "            for n in range(n_offset, N, 2):\n",
    "                for m in range(m_offset, M, 2):\n",
    "                    _ising_update(field, n, m, beta)\n",
    "    return field\n",
    "\n",
    "\n",
    "def _ising_update(field, n, m, beta):\n",
    "    total = 0\n",
    "    N, M  = field.shape\n",
    "    for i in range(n-1, n+2):\n",
    "        for j in range(m-1, m+2):\n",
    "            if i == n and j == m:\n",
    "                continue\n",
    "            total += field[i%N, j%M]\n",
    "    dE = 2 * field[n, m] * total\n",
    "    if dE < 0:\n",
    "        field[n, m] *= -1 # switch\n",
    "    elif np.exp(-dE * beta) > np.random.rand():\n",
    "        field[n, m] *= -1\n",
    "                "
   ]
  },
  {
   "cell_type": "code",
   "execution_count": 32,
   "metadata": {},
   "outputs": [
    {
     "data": {
      "image/png": "[encoded data removed]",
      "text/plain": [
       "<PIL.Image.Image image mode=L size=200x200 at 0x10824AD60>"
      ]
     },
     "execution_count": 32,
     "metadata": {},
     "output_type": "execute_result"
    }
   ],
   "source": [
    "display_spin_field(ising_step(random_spin_field(200, 200)))"
   ]
  },
  {
   "cell_type": "code",
   "execution_count": 33,
   "metadata": {},
   "outputs": [],
   "source": [
    "# Animate using ipywidgets"
   ]
  },
  {
   "cell_type": "code",
   "execution_count": 34,
   "metadata": {},
   "outputs": [],
   "source": [
    "from ipywidgets import interact"
   ]
  },
  {
   "cell_type": "code",
   "execution_count": 35,
   "metadata": {},
   "outputs": [],
   "source": [
    "def display_ising_sequence(images):\n",
    "    def _show(frame=(0, len(images) -1)):\n",
    "        return display_spin_field(images[frame])\n",
    "    return interact(_show)"
   ]
  },
  {
   "cell_type": "code",
   "execution_count": 36,
   "metadata": {},
   "outputs": [
    {
     "data": {
      "application/vnd.jupyter.widget-view+json": {
       "model_id": "ce37fc60581b4b41989612473e58dd99",
       "version_major": 2,
       "version_minor": 0
      },
      "text/plain": [
       "interactive(children=(IntSlider(value=25, description='frame', max=50), Output()), _dom_classes=('widget-inter…"
      ]
     },
     "metadata": {},
     "output_type": "display_data"
    },
    {
     "data": {
      "text/plain": [
       "<function __main__.display_ising_sequence.<locals>._show(frame=(0, 50))>"
      ]
     },
     "execution_count": 36,
     "metadata": {},
     "output_type": "execute_result"
    }
   ],
   "source": [
    "images = [random_spin_field(200, 200)]\n",
    "for i in range(50):\n",
    "    images.append(ising_step(images[-1].copy()))\n",
    "display_ising_sequence(images)"
   ]
  },
  {
   "cell_type": "code",
   "execution_count": 37,
   "metadata": {},
   "outputs": [
    {
     "name": "stderr",
     "output_type": "stream",
     "text": [
      "In file included from /Users/wongdowling/.cache/ipython/cython/_cython_magic_e1e98574bbe4cf55cffee89452006118.c:710:\n",
      "In file included from /Users/wongdowling/opt/anaconda3/lib/python3.9/site-packages/numpy/core/include/numpy/arrayobject.h:4:\n",
      "In file included from /Users/wongdowling/opt/anaconda3/lib/python3.9/site-packages/numpy/core/include/numpy/ndarrayobject.h:12:\n",
      "In file included from /Users/wongdowling/opt/anaconda3/lib/python3.9/site-packages/numpy/core/include/numpy/ndarraytypes.h:1969:\n",
      "/Users/wongdowling/opt/anaconda3/lib/python3.9/site-packages/numpy/core/include/numpy/npy_1_7_deprecated_api.h:17:2: warning: \"Using deprecated NumPy API, disable it with \"          \"#define NPY_NO_DEPRECATED_API NPY_1_7_API_VERSION\" [-W#warnings]\n",
      "#warning \"Using deprecated NumPy API, disable it with \" \\\n",
      " ^\n",
      "/Users/wongdowling/.cache/ipython/cython/_cython_magic_e1e98574bbe4cf55cffee89452006118.c:4942:21: warning: fallthrough annotation in unreachable code [-Wunreachable-code-fallthrough]\n",
      "                    CYTHON_FALLTHROUGH;\n",
      "                    ^\n",
      "/Users/wongdowling/.cache/ipython/cython/_cython_magic_e1e98574bbe4cf55cffee89452006118.c:307:34: note: expanded from macro 'CYTHON_FALLTHROUGH'\n",
      "      #define CYTHON_FALLTHROUGH __attribute__((fallthrough))\n",
      "                                 ^\n",
      "/Users/wongdowling/.cache/ipython/cython/_cython_magic_e1e98574bbe4cf55cffee89452006118.c:4953:21: warning: fallthrough annotation in unreachable code [-Wunreachable-code-fallthrough]\n",
      "                    CYTHON_FALLTHROUGH;\n",
      "                    ^\n",
      "/Users/wongdowling/.cache/ipython/cython/_cython_magic_e1e98574bbe4cf55cffee89452006118.c:307:34: note: expanded from macro 'CYTHON_FALLTHROUGH'\n",
      "      #define CYTHON_FALLTHROUGH __attribute__((fallthrough))\n",
      "                                 ^\n",
      "/Users/wongdowling/.cache/ipython/cython/_cython_magic_e1e98574bbe4cf55cffee89452006118.c:5066:21: warning: fallthrough annotation in unreachable code [-Wunreachable-code-fallthrough]\n",
      "                    CYTHON_FALLTHROUGH;\n",
      "                    ^\n",
      "/Users/wongdowling/.cache/ipython/cython/_cython_magic_e1e98574bbe4cf55cffee89452006118.c:307:34: note: expanded from macro 'CYTHON_FALLTHROUGH'\n",
      "      #define CYTHON_FALLTHROUGH __attribute__((fallthrough))\n",
      "                                 ^\n",
      "/Users/wongdowling/.cache/ipython/cython/_cython_magic_e1e98574bbe4cf55cffee89452006118.c:5077:21: warning: fallthrough annotation in unreachable code [-Wunreachable-code-fallthrough]\n",
      "                    CYTHON_FALLTHROUGH;\n",
      "                    ^\n",
      "/Users/wongdowling/.cache/ipython/cython/_cython_magic_e1e98574bbe4cf55cffee89452006118.c:307:34: note: expanded from macro 'CYTHON_FALLTHROUGH'\n",
      "      #define CYTHON_FALLTHROUGH __attribute__((fallthrough))\n",
      "                                 ^\n",
      "5 warnings generated.\n",
      "ld: warning: duplicate -rpath '/Users/wongdowling/opt/anaconda3/lib' ignored\n"
     ]
    }
   ],
   "source": [
    "%%cython\n",
    "import numpy as np\n",
    "cimport numpy as np # gives you access to Numpy C API\n",
    "def cy_ising_step(field, beta=0.5):\n",
    "    N, M = field.shape\n",
    "    for n_offset in range(2):\n",
    "        for m_offset in range(2):\n",
    "            for n in range(n_offset, N, 2):\n",
    "                for m in range(m_offset, M, 2):\n",
    "                    _cy_ising_update(field, n, m, beta)\n",
    "    return field\n",
    "\n",
    "\n",
    "def _cy_ising_update(field, n, m, beta):\n",
    "    total = 0\n",
    "    N, M  = field.shape\n",
    "    for i in range(n-1, n+2):\n",
    "        for j in range(m-1, m+2):\n",
    "            if i == n and j == m:\n",
    "                continue\n",
    "            total += field[i%N, j%M]\n",
    "    dE = 2 * field[n, m] * total\n",
    "    if dE < 0:\n",
    "        field[n, m] *= -1 # switch\n",
    "    elif np.exp(-dE * beta) > np.random.rand():\n",
    "        field[n, m] *= -1"
   ]
  },
  {
   "cell_type": "code",
   "execution_count": 38,
   "metadata": {},
   "outputs": [
    {
     "name": "stdout",
     "output_type": "stream",
     "text": [
      "140 ms ± 844 µs per loop (mean ± std. dev. of 7 runs, 10 loops each)\n",
      "122 ms ± 717 µs per loop (mean ± std. dev. of 7 runs, 10 loops each)\n"
     ]
    }
   ],
   "source": [
    "field = random_spin_field(200, 200)\n",
    "\n",
    "%timeit ising_step(field)\n",
    "\n",
    "%timeit cy_ising_step(field)"
   ]
  },
  {
   "cell_type": "code",
   "execution_count": 39,
   "metadata": {},
   "outputs": [
    {
     "name": "stderr",
     "output_type": "stream",
     "text": [
      "In file included from /Users/wongdowling/.cache/ipython/cython/_cython_magic_83ced1afea287cd3f673e66ce071350a.c:711:\n",
      "In file included from /Users/wongdowling/opt/anaconda3/lib/python3.9/site-packages/numpy/core/include/numpy/arrayobject.h:4:\n",
      "In file included from /Users/wongdowling/opt/anaconda3/lib/python3.9/site-packages/numpy/core/include/numpy/ndarrayobject.h:12:\n",
      "In file included from /Users/wongdowling/opt/anaconda3/lib/python3.9/site-packages/numpy/core/include/numpy/ndarraytypes.h:1969:\n",
      "/Users/wongdowling/opt/anaconda3/lib/python3.9/site-packages/numpy/core/include/numpy/npy_1_7_deprecated_api.h:17:2: warning: \"Using deprecated NumPy API, disable it with \"          \"#define NPY_NO_DEPRECATED_API NPY_1_7_API_VERSION\" [-W#warnings]\n",
      "#warning \"Using deprecated NumPy API, disable it with \" \\\n",
      " ^\n",
      "/Users/wongdowling/.cache/ipython/cython/_cython_magic_83ced1afea287cd3f673e66ce071350a.c:20602:21: warning: fallthrough annotation in unreachable code [-Wunreachable-code-fallthrough]\n",
      "                    CYTHON_FALLTHROUGH;\n",
      "                    ^\n",
      "/Users/wongdowling/.cache/ipython/cython/_cython_magic_83ced1afea287cd3f673e66ce071350a.c:308:34: note: expanded from macro 'CYTHON_FALLTHROUGH'\n",
      "      #define CYTHON_FALLTHROUGH __attribute__((fallthrough))\n",
      "                                 ^\n",
      "/Users/wongdowling/.cache/ipython/cython/_cython_magic_83ced1afea287cd3f673e66ce071350a.c:20613:21: warning: fallthrough annotation in unreachable code [-Wunreachable-code-fallthrough]\n",
      "                    CYTHON_FALLTHROUGH;\n",
      "                    ^\n",
      "/Users/wongdowling/.cache/ipython/cython/_cython_magic_83ced1afea287cd3f673e66ce071350a.c:308:34: note: expanded from macro 'CYTHON_FALLTHROUGH'\n",
      "      #define CYTHON_FALLTHROUGH __attribute__((fallthrough))\n",
      "                                 ^\n",
      "3 warnings generated.\n",
      "ld: warning: duplicate -rpath '/Users/wongdowling/opt/anaconda3/lib' ignored\n"
     ]
    }
   ],
   "source": [
    "%%cython\n",
    "import numpy as np # gives access to python functions\n",
    "cimport numpy as np # gives you access to Numpy C API\n",
    "\n",
    "def cy_ising_step_fast(long[:, :]field, float beta=0.5):\n",
    "    cdef int N = field.shape[0]\n",
    "    cdef int M = field.shape[1]\n",
    "    cdef  int n_offset, m_offset, n, m\n",
    "   \n",
    "    for n_offset in range(2):\n",
    "        for m_offset in range(2):\n",
    "            for n in range(n_offset, N, 2):\n",
    "                for m in range(m_offset, M, 2):\n",
    "                    _cy_ising_update_fast(field, n, m, beta)\n",
    "    return field\n",
    "\n",
    "\n",
    "cdef _cy_ising_update_fast(long[:,:]field, int n, int m, float beta):\n",
    "    cdef int total = 0\n",
    "    cdef int N = field.shape[0]\n",
    "    cdef int M = field.shape[1]\n",
    "    cdef int i, j\n",
    "    for i in range(n-1, n+2):\n",
    "        for j in range(m-1, m+2):\n",
    "            if i == n and j == m:\n",
    "                continue\n",
    "            total += field[i%N, j%M]\n",
    "    cdef float dE = 2 * field[n, m] * total\n",
    "    if dE < 0:\n",
    "        field[n, m] *= -1 # switch\n",
    "    elif np.exp(-dE * beta) > np.random.rand():\n",
    "        field[n, m] *= -1"
   ]
  },
  {
   "cell_type": "code",
   "execution_count": 40,
   "metadata": {},
   "outputs": [
    {
     "name": "stdout",
     "output_type": "stream",
     "text": [
      "138 ms ± 289 µs per loop (mean ± std. dev. of 7 runs, 10 loops each)\n",
      "122 ms ± 478 µs per loop (mean ± std. dev. of 7 runs, 10 loops each)\n",
      "19.9 ms ± 66.9 µs per loop (mean ± std. dev. of 7 runs, 100 loops each)\n"
     ]
    }
   ],
   "source": [
    "field = random_spin_field(200, 200)\n",
    "\n",
    "%timeit ising_step(field)\n",
    "\n",
    "%timeit cy_ising_step(field)\n",
    "\n",
    "%timeit cy_ising_step_fast(field)"
   ]
  },
  {
   "cell_type": "code",
   "execution_count": 41,
   "metadata": {},
   "outputs": [
    {
     "name": "stderr",
     "output_type": "stream",
     "text": [
      "In file included from /Users/wongdowling/.cache/ipython/cython/_cython_magic_51fc31038f47eff684371375d8c9ac09.c:712:\n",
      "In file included from /Users/wongdowling/opt/anaconda3/lib/python3.9/site-packages/numpy/core/include/numpy/arrayobject.h:4:\n",
      "In file included from /Users/wongdowling/opt/anaconda3/lib/python3.9/site-packages/numpy/core/include/numpy/ndarrayobject.h:12:\n",
      "In file included from /Users/wongdowling/opt/anaconda3/lib/python3.9/site-packages/numpy/core/include/numpy/ndarraytypes.h:1969:\n",
      "/Users/wongdowling/opt/anaconda3/lib/python3.9/site-packages/numpy/core/include/numpy/npy_1_7_deprecated_api.h:17:2: warning: \"Using deprecated NumPy API, disable it with \"          \"#define NPY_NO_DEPRECATED_API NPY_1_7_API_VERSION\" [-W#warnings]\n",
      "#warning \"Using deprecated NumPy API, disable it with \" \\\n",
      " ^\n",
      "/Users/wongdowling/.cache/ipython/cython/_cython_magic_51fc31038f47eff684371375d8c9ac09.c:3024:5: warning: code will never be executed [-Wunreachable-code]\n",
      "    PyErr_SetString(PyExc_ZeroDivisionError, \"float division\");\n",
      "    ^~~~~~~~~~~~~~~\n",
      "/Users/wongdowling/.cache/ipython/cython/_cython_magic_51fc31038f47eff684371375d8c9ac09.c:20518:21: warning: fallthrough annotation in unreachable code [-Wunreachable-code-fallthrough]\n",
      "                    CYTHON_FALLTHROUGH;\n",
      "                    ^\n",
      "/Users/wongdowling/.cache/ipython/cython/_cython_magic_51fc31038f47eff684371375d8c9ac09.c:309:34: note: expanded from macro 'CYTHON_FALLTHROUGH'\n",
      "      #define CYTHON_FALLTHROUGH __attribute__((fallthrough))\n",
      "                                 ^\n",
      "/Users/wongdowling/.cache/ipython/cython/_cython_magic_51fc31038f47eff684371375d8c9ac09.c:20529:21: warning: fallthrough annotation in unreachable code [-Wunreachable-code-fallthrough]\n",
      "                    CYTHON_FALLTHROUGH;\n",
      "                    ^\n",
      "/Users/wongdowling/.cache/ipython/cython/_cython_magic_51fc31038f47eff684371375d8c9ac09.c:309:34: note: expanded from macro 'CYTHON_FALLTHROUGH'\n",
      "      #define CYTHON_FALLTHROUGH __attribute__((fallthrough))\n",
      "                                 ^\n",
      "4 warnings generated.\n",
      "ld: warning: duplicate -rpath '/Users/wongdowling/opt/anaconda3/lib' ignored\n"
     ]
    }
   ],
   "source": [
    "%%cython \n",
    "import numpy as np # gives access to python functions\n",
    "cimport numpy as np # gives you access to Numpy C API\n",
    "\n",
    "from libc.math cimport exp\n",
    "from libc.stdlib cimport rand  \n",
    "cdef extern from \"limits.h\":\n",
    "    int RAND_MAX\n",
    "\n",
    "def cy_ising_step_faster(long[:, :]field, float beta=0.5):\n",
    "    cdef int N = field.shape[0]\n",
    "    cdef int M = field.shape[1]\n",
    "    cdef  int n_offset, m_offset, n, m\n",
    "   \n",
    "    for n_offset in range(2):\n",
    "        for m_offset in range(2):\n",
    "            for n in range(n_offset, N, 2):\n",
    "                for m in range(m_offset, M, 2):\n",
    "                    _cy_ising_update_faster(field, n, m, beta)\n",
    "    return field\n",
    "\n",
    "\n",
    "cdef _cy_ising_update_faster(long[:,:]field, int n, int m, float beta):\n",
    "    cdef int total = 0\n",
    "    cdef int N = field.shape[0]\n",
    "    cdef int M = field.shape[1]\n",
    "    cdef int i, j\n",
    "    for i in range(n-1, n+2):\n",
    "        for j in range(m-1, m+2):\n",
    "            if i == n and j == m:\n",
    "                continue\n",
    "            total += field[i%N, j%M]\n",
    "    cdef float dE = 2 * field[n, m] * total\n",
    "    if dE < 0:\n",
    "        field[n, m] *= -1 # switch\n",
    "    elif exp(-dE * beta) > rand()/RAND_MAX:\n",
    "        field[n, m] *= -1"
   ]
  },
  {
   "cell_type": "code",
   "execution_count": 42,
   "metadata": {},
   "outputs": [
    {
     "name": "stdout",
     "output_type": "stream",
     "text": [
      "138 ms ± 910 µs per loop (mean ± std. dev. of 7 runs, 10 loops each)\n",
      "121 ms ± 639 µs per loop (mean ± std. dev. of 7 runs, 10 loops each)\n",
      "20.1 ms ± 113 µs per loop (mean ± std. dev. of 7 runs, 100 loops each)\n",
      "1.08 ms ± 3.15 µs per loop (mean ± std. dev. of 7 runs, 1,000 loops each)\n"
     ]
    }
   ],
   "source": [
    "field = random_spin_field(200, 200)\n",
    "\n",
    "%timeit ising_step(field)\n",
    "\n",
    "%timeit cy_ising_step(field)\n",
    "\n",
    "%timeit cy_ising_step_fast(field)\n",
    "\n",
    "%timeit cy_ising_step_faster(field)"
   ]
  },
  {
   "cell_type": "code",
   "execution_count": 43,
   "metadata": {},
   "outputs": [
    {
     "name": "stderr",
     "output_type": "stream",
     "text": [
      "In file included from /Users/wongdowling/.cache/ipython/cython/_cython_magic_2e64a1b1cffb037baca679de5b38d366.c:713:\n",
      "In file included from /Users/wongdowling/opt/anaconda3/lib/python3.9/site-packages/numpy/core/include/numpy/arrayobject.h:4:\n",
      "In file included from /Users/wongdowling/opt/anaconda3/lib/python3.9/site-packages/numpy/core/include/numpy/ndarrayobject.h:12:\n",
      "In file included from /Users/wongdowling/opt/anaconda3/lib/python3.9/site-packages/numpy/core/include/numpy/ndarraytypes.h:1969:\n",
      "/Users/wongdowling/opt/anaconda3/lib/python3.9/site-packages/numpy/core/include/numpy/npy_1_7_deprecated_api.h:17:2: warning: \"Using deprecated NumPy API, disable it with \"          \"#define NPY_NO_DEPRECATED_API NPY_1_7_API_VERSION\" [-W#warnings]\n",
      "#warning \"Using deprecated NumPy API, disable it with \" \\\n",
      " ^\n",
      "/Users/wongdowling/.cache/ipython/cython/_cython_magic_2e64a1b1cffb037baca679de5b38d366.c:3029:5: warning: code will never be executed [-Wunreachable-code]\n",
      "    PyErr_SetString(PyExc_ZeroDivisionError, \"float division\");\n",
      "    ^~~~~~~~~~~~~~~\n",
      "/Users/wongdowling/.cache/ipython/cython/_cython_magic_2e64a1b1cffb037baca679de5b38d366.c:20523:21: warning: fallthrough annotation in unreachable code [-Wunreachable-code-fallthrough]\n",
      "                    CYTHON_FALLTHROUGH;\n",
      "                    ^\n",
      "/Users/wongdowling/.cache/ipython/cython/_cython_magic_2e64a1b1cffb037baca679de5b38d366.c:310:34: note: expanded from macro 'CYTHON_FALLTHROUGH'\n",
      "      #define CYTHON_FALLTHROUGH __attribute__((fallthrough))\n",
      "                                 ^\n",
      "/Users/wongdowling/.cache/ipython/cython/_cython_magic_2e64a1b1cffb037baca679de5b38d366.c:20534:21: warning: fallthrough annotation in unreachable code [-Wunreachable-code-fallthrough]\n",
      "                    CYTHON_FALLTHROUGH;\n",
      "                    ^\n",
      "/Users/wongdowling/.cache/ipython/cython/_cython_magic_2e64a1b1cffb037baca679de5b38d366.c:310:34: note: expanded from macro 'CYTHON_FALLTHROUGH'\n",
      "      #define CYTHON_FALLTHROUGH __attribute__((fallthrough))\n",
      "                                 ^\n",
      "4 warnings generated.\n",
      "ld: warning: duplicate -rpath '/Users/wongdowling/opt/anaconda3/lib' ignored\n"
     ]
    }
   ],
   "source": [
    "%%cython \n",
    "import numpy as np # gives access to python functions\n",
    "cimport numpy as np # gives you access to Numpy C API\n",
    "cimport cython\n",
    "\n",
    "from libc.math cimport exp\n",
    "from libc.stdlib cimport rand  \n",
    "cdef extern from \"limits.h\":\n",
    "    int RAND_MAX\n",
    "\n",
    "@cython.boundscheck(False) # dont check index boundaries\n",
    "@cython.wraparound(False) # can not use negative index\n",
    "def cy_ising_step_fastest(long[:, :]field, float beta=0.5):\n",
    "    cdef int N = field.shape[0]\n",
    "    cdef int M = field.shape[1]\n",
    "    cdef  int n_offset, m_offset, n, m\n",
    "   \n",
    "    for n_offset in range(2):\n",
    "        for m_offset in range(2):\n",
    "            for n in range(n_offset, N, 2):\n",
    "                for m in range(m_offset, M, 2):\n",
    "                    _cy_ising_update_fastest(field, n, m, beta)\n",
    "    return field\n",
    "\n",
    "\n",
    "cdef _cy_ising_update_fastest(long[:,:]field, int n, int m, float beta):\n",
    "    cdef int total = 0\n",
    "    cdef int N = field.shape[0]\n",
    "    cdef int M = field.shape[1]\n",
    "    cdef int i, j\n",
    "    for i in range(n-1, n+2):\n",
    "        for j in range(m-1, m+2):\n",
    "            if i == n and j == m:\n",
    "                continue\n",
    "            total += field[i%N, j%M]\n",
    "    cdef float dE = 2 * field[n, m] * total\n",
    "    if dE < 0:\n",
    "        field[n, m] *= -1 # switch\n",
    "    elif exp(-dE * beta) > rand()/RAND_MAX:\n",
    "        field[n, m] *= -1"
   ]
  },
  {
   "cell_type": "code",
   "execution_count": 44,
   "metadata": {},
   "outputs": [
    {
     "name": "stdout",
     "output_type": "stream",
     "text": [
      "139 ms ± 973 µs per loop (mean ± std. dev. of 7 runs, 10 loops each)\n",
      "121 ms ± 830 µs per loop (mean ± std. dev. of 7 runs, 10 loops each)\n",
      "19.7 ms ± 102 µs per loop (mean ± std. dev. of 7 runs, 100 loops each)\n",
      "1.07 ms ± 416 ns per loop (mean ± std. dev. of 7 runs, 1,000 loops each)\n",
      "1.07 ms ± 6.94 µs per loop (mean ± std. dev. of 7 runs, 1,000 loops each)\n"
     ]
    }
   ],
   "source": [
    "field = random_spin_field(200, 200)\n",
    "\n",
    "%timeit ising_step(field)\n",
    "\n",
    "%timeit cy_ising_step(field)\n",
    "\n",
    "%timeit cy_ising_step_fast(field)\n",
    "\n",
    "%timeit cy_ising_step_faster(field)\n",
    "\n",
    "%timeit cy_ising_step_fastest(field)"
   ]
  },
  {
   "cell_type": "code",
   "execution_count": null,
   "metadata": {},
   "outputs": [],
   "source": []
  }
 ],
 "metadata": {
  "kernelspec": {
   "display_name": "Python 3 (ipykernel)",
   "language": "python",
   "name": "python3"
  },
  "language_info": {
   "codemirror_mode": {
    "name": "ipython",
    "version": 3
   },
   "file_extension": ".py",
   "mimetype": "text/x-python",
   "name": "python",
   "nbconvert_exporter": "python",
   "pygments_lexer": "ipython3",
   "version": "3.9.12"
  },
  "toc": {
   "base_numbering": 1,
   "nav_menu": {},
   "number_sections": true,
   "sideBar": true,
   "skip_h1_title": false,
   "title_cell": "Table of Contents",
   "title_sidebar": "Contents",
   "toc_cell": false,
   "toc_position": {},
   "toc_section_display": true,
   "toc_window_display": false
  }
 },
 "nbformat": 4,
 "nbformat_minor": 4
}
