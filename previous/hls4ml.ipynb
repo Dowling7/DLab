{
 "cells": [
  {
   "cell_type": "code",
   "execution_count": 1,
   "id": "94a90167-ae04-45a6-a1d0-ec9ebb6cfac1",
   "metadata": {},
   "outputs": [
    {
     "name": "stdout",
     "output_type": "stream",
     "text": [
      "Downloading example model files ...\n",
      "{'OutputDir': 'my-hls-test', 'ProjectName': 'myproject', 'Backend': 'Vivado', 'Part': 'xcku115-flvb2104-2-i', 'ClockPeriod': 5, 'IOType': 'io_parallel', 'HLSConfig': {'Model': {'Precision': 'ap_fixed<16,6>', 'ReuseFactor': 1}}, 'KerasJson': 'KERAS_3layer.json', 'KerasH5': 'KERAS_3layer_weights.h5'}\n",
      "Interpreting Model\n",
      "Topology:\n",
      "Layer name: input_1, layer type: InputLayer, input shapes: [[None, 16]], output shape: [None, 16]\n",
      "Layer name: fc1_relu, layer type: Dense, input shapes: [[None, 16]], output shape: [None, 64]\n",
      "Layer name: fc2_relu, layer type: Dense, input shapes: [[None, 64]], output shape: [None, 32]\n",
      "Layer name: fc3_relu, layer type: Dense, input shapes: [[None, 32]], output shape: [None, 32]\n",
      "Layer name: output_softmax, layer type: Dense, input shapes: [[None, 32]], output shape: [None, 5]\n",
      "Creating HLS model\n",
      "{   'keras': [   'KERAS_3layer.json',\n",
      "                 'garnet_1layer.json',\n",
      "                 'KERAS_dense_16x500x500x500x500x500x5.json',\n",
      "                 'KERAS_conv1d_small.json',\n",
      "                 'qkeras_mnist_cnn.json',\n",
      "                 'KERAS_1layer.json',\n",
      "                 'KERAS_3layer_binarydense_relu_max.json',\n",
      "                 'KERAS_3layer_binary_smaller.json',\n",
      "                 'KERAS_conv1d.json',\n",
      "                 'KERAS_conv2d_model.json',\n",
      "                 'jetTagger_Conv2D_Small_NoBatchNorm.json',\n",
      "                 'keras_bnn.json',\n",
      "                 'KERAS_3layer_ternary_small.json',\n",
      "                 'garnet_3layer.json',\n",
      "                 'KERAS_dense_16x100x100x100x100x100x5.json',\n",
      "                 'KERAS_dense_16x200x200x200x200x200x5.json',\n",
      "                 'qkeras_mnist_dense.json',\n",
      "                 'qkeras_3layer.json',\n",
      "                 'jetTagger_Conv2D_Small.json',\n",
      "                 'KERAS_3layer_batch_norm.json'],\n",
      "    'onnx': [   'conv1d_small_keras.onnx',\n",
      "                'three_layer_bn_pytorch.onnx',\n",
      "                'three_layer_bn_keras.onnx',\n",
      "                'dense_big_keras.onnx',\n",
      "                'three_layer_pytorch.onnx',\n",
      "                'two_layer_pytorch.onnx',\n",
      "                'conv2d_small_mp_keras.onnx',\n",
      "                'two_layer_keras.onnx',\n",
      "                'three_layer_keras.onnx',\n",
      "                'conv2d_small_keras.onnx'],\n",
      "    'pytorch': ['two_layer_model.pt', 'three_layer_model.pt'],\n",
      "    'tensorflow': ['3layer.pb']}\n"
     ]
    }
   ],
   "source": [
    "import hls4ml\n",
    "\n",
    "# Fetch a keras model from our example repository\n",
    "# This will download our example model to your working directory and return an example configuration file\n",
    "config = hls4ml.utils.fetch_example_model('KERAS_3layer.json')\n",
    "\n",
    "# You can print it to see some default parameters\n",
    "print(config)\n",
    "\n",
    "# Convert it to a hls project\n",
    "hls_model = hls4ml.converters.keras_to_hls(config)\n",
    "\n",
    "# Print full list of example model if you want to explore more\n",
    "hls4ml.utils.fetch_example_list()"
   ]
  },
  {
   "cell_type": "code",
   "execution_count": 2,
   "id": "0ccd3b9c-f206-4043-a4df-4697c8a93879",
   "metadata": {},
   "outputs": [
    {
     "name": "stdout",
     "output_type": "stream",
     "text": [
      "Writing HLS project\n",
      "Done\n",
      "Project myproject_prj does not exist. Rerun \"hls4ml build -p my-hls-test\".\n",
      "Project myproject_prj does not exist. Rerun \"hls4ml build -p my-hls-test\".\n"
     ]
    },
    {
     "name": "stderr",
     "output_type": "stream",
     "text": [
      "sh: vivado_hls: command not found\n"
     ]
    }
   ],
   "source": [
    "# Use Vivado HLS to synthesize the model\n",
    "# This might take several minutes\n",
    "hls_model.build()\n",
    "\n",
    "# Print out the report if you want\n",
    "hls4ml.report.read_vivado_report('my-hls-test')"
   ]
  },
  {
   "cell_type": "code",
   "execution_count": null,
   "id": "3b25dc56-dc17-483c-8dab-cbc87c230b3f",
   "metadata": {},
   "outputs": [],
   "source": []
  }
 ],
 "metadata": {
  "kernelspec": {
   "display_name": "Python 3 (ipykernel)",
   "language": "python",
   "name": "python3"
  },
  "language_info": {
   "codemirror_mode": {
    "name": "ipython",
    "version": 3
   },
   "file_extension": ".py",
   "mimetype": "text/x-python",
   "name": "python",
   "nbconvert_exporter": "python",
   "pygments_lexer": "ipython3",
   "version": "3.9.16"
  }
 },
 "nbformat": 4,
 "nbformat_minor": 5
}
