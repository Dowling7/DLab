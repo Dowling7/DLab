{
 "cells": [
  {
   "cell_type": "markdown",
   "id": "b364035b",
   "metadata": {},
   "source": [
    "In Python, *args and **kwargs are special syntaxes used in function signatures to pass a variable number of arguments to a function. They allow you to create more flexible and dynamic functions. Here's a breakdown of both:"
   ]
  },
  {
   "cell_type": "markdown",
   "id": "40bbc61a",
   "metadata": {},
   "source": [
    "1. *args:\n",
    "It allows you to pass a variable number of positional arguments.\n",
    "Inside the function, these arguments are received as a tuple.\n",
    "Commonly used when you're uncertain about the number of positional arguments that will be passed."
   ]
  },
  {
   "cell_type": "code",
   "execution_count": 1,
   "id": "9a1601e4",
   "metadata": {},
   "outputs": [
    {
     "name": "stdout",
     "output_type": "stream",
     "text": [
      "1\n",
      "2\n",
      "3\n",
      "4\n"
     ]
    }
   ],
   "source": [
    "def my_function(*args):\n",
    "    for arg in args:\n",
    "        print(arg)\n",
    "\n",
    "my_function(1, 2, 3, 4)  # prints 1, 2, 3, 4 on separate lines\n"
   ]
  },
  {
   "cell_type": "markdown",
   "id": "e4bd54da",
   "metadata": {},
   "source": [
    "2. **kwargs:\n",
    "Allows you to pass a variable number of keyword arguments.\n",
    "Inside the function, these are received as a dictionary.\n",
    "Useful when you're uncertain about the number of keyword arguments."
   ]
  },
  {
   "cell_type": "code",
   "execution_count": 2,
   "id": "623910af",
   "metadata": {},
   "outputs": [
    {
     "name": "stdout",
     "output_type": "stream",
     "text": [
      "1 2\n",
      "(3, 4, 5)\n",
      "{'name': 'Alice', 'age': 30}\n"
     ]
    }
   ],
   "source": [
    "def combined_function(a, b, *args, **kwargs):\n",
    "    print(a, b)\n",
    "    print(args)\n",
    "    print(kwargs)\n",
    "\n",
    "combined_function(1, 2, 3, 4, 5, name=\"Alice\", age=30)\n"
   ]
  },
  {
   "cell_type": "code",
   "execution_count": 3,
   "id": "b87c4edf",
   "metadata": {},
   "outputs": [
    {
     "name": "stdout",
     "output_type": "stream",
     "text": [
      "1 2\n",
      "(3, 4, 5)\n",
      "{'name': 'Alice', 'age': 30}\n"
     ]
    }
   ],
   "source": [
    "def combined_function(a, b, *args, **kwargs):\n",
    "    print(a, b)\n",
    "    print(args)\n",
    "    print(kwargs)\n",
    "\n",
    "combined_function(1, 2, 3, 4, 5, name=\"Alice\", age=30)\n"
   ]
  },
  {
   "cell_type": "code",
   "execution_count": null,
   "id": "0175f59d",
   "metadata": {},
   "outputs": [],
   "source": []
  }
 ],
 "metadata": {
  "kernelspec": {
   "display_name": "Python 3 (ipykernel)",
   "language": "python",
   "name": "python3"
  },
  "language_info": {
   "codemirror_mode": {
    "name": "ipython",
    "version": 3
   },
   "file_extension": ".py",
   "mimetype": "text/x-python",
   "name": "python",
   "nbconvert_exporter": "python",
   "pygments_lexer": "ipython3",
   "version": "3.9.12"
  }
 },
 "nbformat": 4,
 "nbformat_minor": 5
}
